{
 "cells": [
  {
   "cell_type": "code",
   "execution_count": 14,
   "id": "069f8e3f",
   "metadata": {},
   "outputs": [],
   "source": [
    "# Libraries used\n",
    "import spotipy\n",
    "from spotipy.oauth2 import SpotifyClientCredentials\n",
    "from spotipy.oauth2 import SpotifyOAuth\n",
    "import json\n",
    "import pandas as pd\n",
    "import numpy as np\n",
    "import matplotlib.pyplot as plt\n",
    "import seaborn as sns\n",
    "import math\n"
   ]
  },
  {
   "cell_type": "code",
   "execution_count": 3,
   "id": "2ac0e0b7",
   "metadata": {},
   "outputs": [],
   "source": [
    "# Read spotify api credentials from a file\n",
    "# with open('auth.json') as f:\n",
    "#   data = json.load(f)\n",
    "%load_ext dotenv\n",
    "%dotenv"
   ]
  },
  {
   "cell_type": "code",
   "execution_count": 5,
   "id": "0ef77aa6",
   "metadata": {},
   "outputs": [],
   "source": [
    "# authenticate the api\n",
    "# sp = spotipy.Spotify(auth_manager=SpotifyClientCredentials(client_id=data['ID'],\n",
    "#                                                           client_secret=data['Secret']))\n",
    "scope = \"user-library-read user-top-read user-read-recently-played user-read-playback-position\"\n",
    "sp = spotipy.Spotify(auth_manager=SpotifyOAuth(scope=scope))\n"
   ]
  },
  {
   "cell_type": "code",
   "execution_count": 6,
   "id": "3fc0add2",
   "metadata": {},
   "outputs": [],
   "source": [
    "artists = sp.current_user_top_artists(limit=30,time_range='long_term')"
   ]
  },
  {
   "cell_type": "code",
   "execution_count": 7,
   "id": "d5bfc0f7",
   "metadata": {},
   "outputs": [
    {
     "name": "stdout",
     "output_type": "stream",
     "text": [
      "Radiohead 77\n",
      "['alternative rock', 'art rock', 'melancholia', 'oxford indie', 'permanent wave', 'rock']\n",
      "Nirvana 80\n",
      "['grunge', 'permanent wave', 'rock']\n",
      "Arcade Fire 70\n",
      "['baroque pop', 'canadian indie', 'indie rock', 'modern rock', 'permanent wave', 'quebec indie', 'rock']\n",
      "Mastodon 57\n",
      "['alternative metal', 'atlanta metal', 'hard rock', 'metal', 'nu metal', 'progressive groove metal', 'progressive sludge', 'rock', 'sludge metal', 'stoner metal']\n",
      "Slipknot 76\n",
      "['alternative metal', 'nu metal', 'rap metal']\n",
      "Queens of the Stone Age 67\n",
      "['alternative metal', 'alternative rock', 'blues rock', 'modern rock', 'nu metal', 'palm desert scene', 'rock', 'stoner metal', 'stoner rock']\n",
      "TOOL 69\n",
      "['alternative metal', 'alternative rock', 'art rock', 'nu metal', 'progressive metal', 'progressive rock', 'rock']\n",
      "Muse 74\n",
      "['modern rock', 'permanent wave', 'rock']\n",
      "Martin O'Donnell 56\n",
      "['scorecore', 'video game music']\n",
      "Glenn Stafford 41\n",
      "['video game music']\n",
      "Fleet Foxes 61\n",
      "['chamber pop', 'folk', 'indie rock', 'seattle indie', 'stomp and holler']\n",
      "Thom Yorke 57\n",
      "['art pop', 'electronica', 'glitch pop', 'indie rock', 'oxford indie']\n",
      "Metallica 79\n",
      "['hard rock', 'metal', 'old school thrash', 'rock', 'thrash metal']\n",
      "Billie Eilish 87\n",
      "['art pop', 'electropop', 'pop']\n",
      "Megadeth 67\n",
      "['album rock', 'alternative metal', 'hard rock', 'melodic thrash', 'metal', 'old school thrash', 'rock', 'speed metal', 'thrash metal']\n",
      "The White Stripes 69\n",
      "['alternative rock', 'blues rock', 'detroit rock', 'garage rock', 'modern blues rock', 'modern rock', 'permanent wave', 'punk blues', 'rock']\n",
      "Kanye West 90\n",
      "['chicago rap', 'rap']\n",
      "Linkin Park 81\n",
      "['alternative metal', 'nu metal', 'post-grunge', 'rap metal']\n",
      "Curtis Schweitzer 42\n",
      "['indie game soundtrack', 'video game music']\n",
      "The Flaming Lips 55\n",
      "['alternative rock', 'art pop', 'art rock', 'indie pop', 'indie rock', 'modern rock', 'noise pop', 'okc indie', 'rock']\n",
      "Ariana Grande 87\n",
      "['dance pop', 'pop']\n",
      "Gojira 61\n",
      "['alternative metal', 'french death metal', 'french metal', 'metal', 'nu metal', 'progressive groove metal', 'rock']\n",
      "Aphex Twin 60\n",
      "['ambient', 'braindance', 'electronica', 'intelligent dance music', 'uk experimental electronic']\n",
      "Pink Guy 52\n",
      "['comedy rap', 'meme rap']\n",
      "The Weeknd 91\n",
      "['canadian contemporary r&b', 'canadian pop', 'pop']\n",
      "Arnaud Roy 41\n",
      "['video game music']\n",
      "Gareth Coker 54\n",
      "['video game music']\n",
      "The Doors 71\n",
      "['acid rock', 'classic rock', 'psychedelic rock', 'rock']\n",
      "Atoms For Peace 41\n",
      "['electronic rock', 'glitch pop', 'modern alternative rock', 'supergroup']\n",
      "Red Hot Chili Peppers 81\n",
      "['alternative rock', 'funk metal', 'funk rock', 'permanent wave']\n"
     ]
    }
   ],
   "source": [
    "#print(res['items'][0])\n",
    "for a in artists['items']:\n",
    "    print(a['name'], a['popularity'])\n",
    "    print(a['genres'])"
   ]
  },
  {
   "cell_type": "code",
   "execution_count": 8,
   "id": "2031702e",
   "metadata": {},
   "outputs": [],
   "source": [
    "tracks = sp.current_user_recently_played(limit=50)"
   ]
  },
  {
   "cell_type": "code",
   "execution_count": 9,
   "id": "040f3cf2",
   "metadata": {},
   "outputs": [
    {
     "name": "stdout",
     "output_type": "stream",
     "text": [
      "I Sat by the Ocean\n",
      "Custer\n",
      "Go With The Flow\n",
      "Black Swan\n",
      "Morning Bell\n",
      "Idioteque\n",
      "Motion Picture Soundtrack\n",
      "Black Swan\n",
      "Black Swan\n",
      "Suspirium\n",
      "Dawn Chorus\n",
      "You Will Never Work In Television Again\n",
      "The Opposite\n",
      "The Same\n",
      "Waving A White Flag\n",
      "A Hairdryer\n",
      "Free In The Knowledge\n",
      "Open The Floodgates\n",
      "Thin Thing\n",
      "Speech Bubbles\n",
      "The Smoke\n",
      "Pana-vision\n",
      "You Will Never Work In Television Again\n",
      "The Opposite\n",
      "The Same\n",
      "Red Flag\n",
      "Like Spinning Plates - 'Why Us?' Version\n",
      "A Hairdryer\n",
      "Free In The Knowledge\n",
      "Open The Floodgates\n",
      "Thin Thing\n",
      "Speech Bubbles\n",
      "The Smoke\n",
      "Pana-vision\n",
      "You Will Never Work In Television Again\n",
      "The Opposite\n",
      "The Same\n",
      "Thin Thing\n",
      "Speech Bubbles\n",
      "The Smoke\n",
      "Pana-vision\n",
      "You Will Never Work In Television Again\n",
      "The Opposite\n",
      "The Same\n",
      "Free In The Knowledge\n",
      "Open The Floodgates\n",
      "Thin Thing\n",
      "Speech Bubbles\n",
      "Glimmer of hope\n",
      "Legend\n"
     ]
    }
   ],
   "source": [
    "for t in tracks['items']:\n",
    "    print(t['track']['name'])"
   ]
  },
  {
   "cell_type": "code",
   "execution_count": 11,
   "id": "9c2fba04",
   "metadata": {},
   "outputs": [],
   "source": [
    "df = pd.DataFrame({\n",
    "    \"Fruit\": [\"Apples\", \"Oranges\", \"Bananas\", \"Apples\", \"Oranges\", \"Bananas\"],\n",
    "    \"Amount\": [4, 1, 2, 2, 4, 5],\n",
    "    \"City\": [\"SF\", \"SF\", \"SF\", \"Montreal\", \"Montreal\", \"Montreal\"]\n",
    "})"
   ]
  },
  {
   "cell_type": "code",
   "execution_count": 12,
   "id": "7f7f7823",
   "metadata": {},
   "outputs": [],
   "source": [
    "fig = px.bar(df, x=\"Fruit\", y=\"Amount\", color=\"City\", barmode=\"group\")"
   ]
  },
  {
   "cell_type": "code",
   "execution_count": 15,
   "id": "e7ebba2b",
   "metadata": {},
   "outputs": [],
   "source": [
    "app.layout = html.Div(children=[\n",
    "    html.H1(children='Hello Dash'),\n",
    "\n",
    "    html.Div(children='''\n",
    "        Dash: A web application framework for your data.\n",
    "    '''),\n",
    "\n",
    "    dcc.Graph(\n",
    "        id='example-graph',\n",
    "        figure=fig\n",
    "    )\n",
    "])"
   ]
  },
  {
   "cell_type": "code",
   "execution_count": 16,
   "id": "f1280918",
   "metadata": {},
   "outputs": [
    {
     "name": "stdout",
     "output_type": "stream",
     "text": [
      "Dash is running on http://127.0.0.1:8050/\n",
      "\n",
      " * Serving Flask app \"__main__\" (lazy loading)\n",
      " * Environment: production\n",
      "   WARNING: This is a development server. Do not use it in a production deployment.\n",
      "   Use a production WSGI server instead.\n",
      " * Debug mode: on\n"
     ]
    },
    {
     "ename": "SystemExit",
     "evalue": "1",
     "output_type": "error",
     "traceback": [
      "An exception has occurred, use %tb to see the full traceback.\n",
      "\u001b[1;31mSystemExit\u001b[0m\u001b[1;31m:\u001b[0m 1\n"
     ]
    },
    {
     "name": "stderr",
     "output_type": "stream",
     "text": [
      "C:\\Users\\Michael\\anaconda3\\lib\\site-packages\\IPython\\core\\interactiveshell.py:3445: UserWarning:\n",
      "\n",
      "To exit: use 'exit', 'quit', or Ctrl-D.\n",
      "\n"
     ]
    }
   ],
   "source": [
    "if __name__ == '__main__':\n",
    "    app.run_server(debug=True)"
   ]
  },
  {
   "cell_type": "code",
   "execution_count": null,
   "id": "42e9d930",
   "metadata": {},
   "outputs": [],
   "source": []
  }
 ],
 "metadata": {
  "kernelspec": {
   "display_name": "Python 3",
   "language": "python",
   "name": "python3"
  },
  "language_info": {
   "codemirror_mode": {
    "name": "ipython",
    "version": 3
   },
   "file_extension": ".py",
   "mimetype": "text/x-python",
   "name": "python",
   "nbconvert_exporter": "python",
   "pygments_lexer": "ipython3",
   "version": "3.8.8"
  }
 },
 "nbformat": 4,
 "nbformat_minor": 5
}
